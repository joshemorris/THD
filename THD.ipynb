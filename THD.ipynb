{
 "cells": [
  {
   "cell_type": "code",
   "execution_count": 59,
   "metadata": {
    "collapsed": true
   },
   "outputs": [],
   "source": [
    "import os\n",
    "import librosa\n",
    "import math\n",
    "import numpy as np"
   ]
  },
  {
   "cell_type": "code",
   "execution_count": 41,
   "metadata": {
    "collapsed": true
   },
   "outputs": [],
   "source": [
    "# list for the array\n",
    "channels = []\n",
    "sr = 44100\n",
    "\n",
    "# Read in data\n",
    "for root, dirs, files in os.walk(\"./data\"):\n",
    "    cur_chan = []\n",
    "    \n",
    "    for file in files:\n",
    "        audio, sr = librosa.load(os.path.join(root, file))\n",
    "        cur_chan.append(audio)\n",
    "            \n",
    "    if(cur_chan):\n",
    "        channels.append(cur_chan)\n"
   ]
  },
  {
   "cell_type": "code",
   "execution_count": 52,
   "metadata": {},
   "outputs": [
    {
     "name": "stdout",
     "output_type": "stream",
     "text": [
      "3.3675306985037916\n"
     ]
    }
   ],
   "source": [
    "# length of sine sweep in S\n",
    "M = 10\n",
    "\n",
    "# start frequency\n",
    "f_1 = 20\n",
    "\n",
    "# end frequency\n",
    "f_2 = 20000\n",
    "\n",
    "# harmonic\n",
    "k = 2\n",
    "\n",
    "# total length of fundamental in seconds\n",
    "T =  (((2 * math.pi * M) / (k - 1)) - math.pi / 2) * math.log(f_2 / f_1) / (2 * math.pi * f_1)\n",
    "\n",
    "print(T)"
   ]
  },
  {
   "cell_type": "code",
   "execution_count": 68,
   "metadata": {},
   "outputs": [
    {
     "name": "stdout",
     "output_type": "stream",
     "text": [
      "[7450.898974031561, 11809.395470501762, 14901.797948063122, 17300.451659971306, 19260.294444533323, 20917.317908501456, 22352.696922094685, 23618.790941003524, 24751.350634002873, 25775.87549803699, 26711.193418564886, 27571.602499363107, 28368.21688253302, 29109.84713047307, 29803.595896126244, 30455.27269026429, 31069.689915035084, 31650.878751677257, 32202.249608034428, 32726.71337900322, 33226.774472068544, 33704.603137353406, 34162.09239259645, 34600.90331994261, 35022.50147339467, 35428.18641150529, 35819.11585656458, 36196.32561246085]\n"
     ]
    }
   ],
   "source": [
    "# Calculate harmonic offsets\n",
    "harm_off = []\n",
    "num_harm = 30\n",
    "\n",
    "for k in range(2,num_harm):\n",
    "    n = (T * sr * math.log(k)) / math.log(f_2 / f_1)\n",
    "    harm_off.append(n)\n",
    "    \n",
    "print(harm_off)"
   ]
  },
  {
   "cell_type": "code",
   "execution_count": 76,
   "metadata": {},
   "outputs": [
    {
     "name": "stdout",
     "output_type": "stream",
     "text": [
      "[[0.0016792251969153305, 0.0015426416130973175, 0.0022075767746711403], [0.0019017538084009867, 0.0015064031644488015, 0.0016029438362942401]]\n"
     ]
    }
   ],
   "source": [
    "# calculate harmonic distortion\n",
    "THD = []\n",
    "\n",
    "# position of fundamental\n",
    "fund_pos = M * sr\n",
    "\n",
    "for channel in channels:\n",
    "    cur_chan_thd = []\n",
    "    \n",
    "    #calculate the harmonic distortion in each sample for the current channel\n",
    "    for sample in channel:\n",
    "        harm_volt = 0\n",
    "        \n",
    "        for i in range(num_harm - 3):\n",
    "            cur_harm = int(fund_pos - harm_off[i] + 10)\n",
    "            next_harm = int(fund_pos - harm_off[i + 1])\n",
    "            \n",
    "            v_rms = 0.707 * np.max(sample[next_harm:cur_harm])\n",
    "            harm_volt += pow(v_rms, 2)\n",
    "            \n",
    "        cur_sam_thd = math.sqrt(harm_volt) / (.707 * np.max(sample))\n",
    "        \n",
    "        cur_chan_thd.append(cur_sam_thd)\n",
    "        \n",
    "    THD.append(cur_chan_thd)\n",
    "    \n",
    "print(THD)"
   ]
  }
 ],
 "metadata": {
  "kernelspec": {
   "display_name": "Python 3",
   "language": "python",
   "name": "python3"
  },
  "language_info": {
   "codemirror_mode": {
    "name": "ipython",
    "version": 3
   },
   "file_extension": ".py",
   "mimetype": "text/x-python",
   "name": "python",
   "nbconvert_exporter": "python",
   "pygments_lexer": "ipython3",
   "version": "3.6.1"
  }
 },
 "nbformat": 4,
 "nbformat_minor": 2
}
